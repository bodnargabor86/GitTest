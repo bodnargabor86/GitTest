{
  "cells": [
    {
      "cell_type": "markdown",
      "metadata": {
        "id": "view-in-github",
        "colab_type": "text"
      },
      "source": [
        "<a href=\"https://colab.research.google.com/github/bodnargabor86/GitTest/blob/master/homework_bodnar_python.ipynb\" target=\"_parent\"><img src=\"https://colab.research.google.com/assets/colab-badge.svg\" alt=\"Open In Colab\"/></a>"
      ]
    },
    {
      "cell_type": "markdown",
      "id": "fe9dd8d8",
      "metadata": {
        "toc": true,
        "id": "fe9dd8d8"
      },
      "source": [
        "<h1>Table of Contents<span class=\"tocSkip\"></span></h1>\n",
        "<div class=\"toc\"><ul class=\"toc-item\"><li><span><a href=\"#Sex-and-age\" data-toc-modified-id=\"Sex-and-age-1\"><span class=\"toc-item-num\">1&nbsp;&nbsp;</span>Sex and age</a></span></li><li><span><a href=\"#Height-and-weight\" data-toc-modified-id=\"Height-and-weight-2\"><span class=\"toc-item-num\">2&nbsp;&nbsp;</span>Height and weight</a></span><ul class=\"toc-item\"><li><span><a href=\"#Plot-of-weight-and-height-for-girls-and-boys-as-functions-of-age\" data-toc-modified-id=\"Plot-of-weight-and-height-for-girls-and-boys-as-functions-of-age-2.1\"><span class=\"toc-item-num\">2.1&nbsp;&nbsp;</span>Plot of weight and height for girls and boys as functions of age</a></span></li></ul></li><li><span><a href=\"#Tables-for-girls-and-boys\" data-toc-modified-id=\"Tables-for-girls-and-boys-3\"><span class=\"toc-item-num\">3&nbsp;&nbsp;</span>Tables for girls and boys</a></span></li><li><span><a href=\"#General-table\" data-toc-modified-id=\"General-table-4\"><span class=\"toc-item-num\">4&nbsp;&nbsp;</span>General table</a></span></li><li><span><a href=\"#(Self)-check\" data-toc-modified-id=\"(Self)-check-5\"><span class=\"toc-item-num\">5&nbsp;&nbsp;</span>(Self) check</a></span></li></ul></div>"
      ]
    },
    {
      "cell_type": "markdown",
      "id": "ca63b61d",
      "metadata": {
        "id": "ca63b61d"
      },
      "source": [
        "Often we have to create our own synthetic data for modeling. Let us create a synthetic dataset for modeling of weight and height of teenagers as a function of age.\n",
        "\n",
        "Please do not forget of PEP8 and common concepts like DRY (e.g., use loops)."
      ]
    },
    {
      "cell_type": "code",
      "execution_count": null,
      "id": "0e7638a6",
      "metadata": {
        "ExecuteTime": {
          "end_time": "2021-07-03T09:06:43.019349Z",
          "start_time": "2021-07-03T09:06:42.293362Z"
        },
        "id": "0e7638a6",
        "outputId": "57b6a132-3d2f-4a82-dbdc-860093a8706e",
        "colab": {
          "base_uri": "https://localhost:8080/"
        }
      },
      "outputs": [
        {
          "output_type": "stream",
          "name": "stdout",
          "text": [
            "Looking in indexes: https://pypi.org/simple, https://us-python.pkg.dev/colab-wheels/public/simple/\n",
            "Requirement already satisfied: pylint in /usr/local/lib/python3.7/dist-packages (2.15.6)\n",
            "Requirement already satisfied: platformdirs>=2.2.0 in /usr/local/lib/python3.7/dist-packages (from pylint) (2.5.4)\n",
            "Requirement already satisfied: astroid<=2.14.0-dev0,>=2.12.12 in /usr/local/lib/python3.7/dist-packages (from pylint) (2.12.13)\n",
            "Requirement already satisfied: mccabe<0.8,>=0.6 in /usr/local/lib/python3.7/dist-packages (from pylint) (0.7.0)\n",
            "Requirement already satisfied: typing-extensions>=3.10.0 in /usr/local/lib/python3.7/dist-packages (from pylint) (4.1.1)\n",
            "Requirement already satisfied: tomli>=1.1.0 in /usr/local/lib/python3.7/dist-packages (from pylint) (2.0.1)\n",
            "Requirement already satisfied: tomlkit>=0.10.1 in /usr/local/lib/python3.7/dist-packages (from pylint) (0.11.6)\n",
            "Requirement already satisfied: isort<6,>=4.2.5 in /usr/local/lib/python3.7/dist-packages (from pylint) (5.10.1)\n",
            "Requirement already satisfied: dill>=0.2 in /usr/local/lib/python3.7/dist-packages (from pylint) (0.3.6)\n",
            "Requirement already satisfied: lazy-object-proxy>=1.4.0 in /usr/local/lib/python3.7/dist-packages (from astroid<=2.14.0-dev0,>=2.12.12->pylint) (1.8.0)\n",
            "Requirement already satisfied: wrapt<2,>=1.11 in /usr/local/lib/python3.7/dist-packages (from astroid<=2.14.0-dev0,>=2.12.12->pylint) (1.14.1)\n",
            "Requirement already satisfied: typed-ast<2.0,>=1.4.0 in /usr/local/lib/python3.7/dist-packages (from astroid<=2.14.0-dev0,>=2.12.12->pylint) (1.5.4)\n"
          ]
        }
      ],
      "source": [
        "!pip install pylint\n",
        "import pylint\n"
      ]
    },
    {
      "cell_type": "markdown",
      "id": "a95068f9",
      "metadata": {
        "id": "a95068f9"
      },
      "source": [
        "## Sex and age\n",
        "\n",
        "Create two lists with N elements each (`sex_f` and `sex_m`), filled with letters 'F' and 'M'.\n",
        "\n",
        "Using `numpy` functions `arange` and `linspace` create two arrays with N elements filled with linearly growing numbers from 11 to 20 (`age_f` and `age_m`). \n",
        "\n",
        "Make N as a global constant which can be equal to 10 in this example."
      ]
    },
    {
      "cell_type": "code",
      "source": [
        "import numpy as np"
      ],
      "metadata": {
        "id": "0Z7stEl9mssW"
      },
      "id": "0Z7stEl9mssW",
      "execution_count": null,
      "outputs": []
    },
    {
      "cell_type": "code",
      "execution_count": null,
      "id": "4380f6a5",
      "metadata": {
        "ExecuteTime": {
          "end_time": "2021-07-03T09:06:43.035465Z",
          "start_time": "2021-07-03T09:06:43.020308Z"
        },
        "id": "4380f6a5"
      },
      "outputs": [],
      "source": [
        "N = 10"
      ]
    },
    {
      "cell_type": "code",
      "execution_count": null,
      "id": "d623dbe5",
      "metadata": {
        "ExecuteTime": {
          "end_time": "2021-07-03T09:06:43.051039Z",
          "start_time": "2021-07-03T09:06:43.037305Z"
        },
        "id": "d623dbe5",
        "outputId": "7e9f2844-59b3-4df0-dbaf-ea04e07bf012",
        "colab": {
          "base_uri": "https://localhost:8080/"
        }
      },
      "outputs": [
        {
          "output_type": "execute_result",
          "data": {
            "text/plain": [
              "['F', 'F', 'F', 'F', 'F', 'F', 'F', 'F', 'F', 'F']"
            ]
          },
          "metadata": {},
          "execution_count": 109
        }
      ],
      "source": [
        "sex_f = [\"F\"] * N\n",
        "sex_f"
      ]
    },
    {
      "cell_type": "code",
      "source": [
        "sex_m = [\"M\"] * N\n",
        "print(sex_m)"
      ],
      "metadata": {
        "id": "tx1Vf-UflVyr",
        "outputId": "7b7189d3-e60a-4f68-c18c-d9613cb0d061",
        "colab": {
          "base_uri": "https://localhost:8080/"
        }
      },
      "id": "tx1Vf-UflVyr",
      "execution_count": null,
      "outputs": [
        {
          "output_type": "stream",
          "name": "stdout",
          "text": [
            "['M', 'M', 'M', 'M', 'M', 'M', 'M', 'M', 'M', 'M']\n"
          ]
        }
      ]
    },
    {
      "cell_type": "code",
      "execution_count": null,
      "id": "082be3d9",
      "metadata": {
        "ExecuteTime": {
          "end_time": "2021-07-03T09:06:43.067032Z",
          "start_time": "2021-07-03T09:06:43.052002Z"
        },
        "id": "082be3d9",
        "outputId": "c9c75c1b-e839-4873-8ff5-f315b59845ad",
        "colab": {
          "base_uri": "https://localhost:8080/"
        }
      },
      "outputs": [
        {
          "output_type": "execute_result",
          "data": {
            "text/plain": [
              "array([11., 12., 13., 14., 15., 16., 17., 18., 19., 20.])"
            ]
          },
          "metadata": {},
          "execution_count": 111
        }
      ],
      "source": [
        "age_f = np.linspace(11, 20, num=N)\n",
        "age_f"
      ]
    },
    {
      "cell_type": "code",
      "source": [
        "age_m = np.linspace(11, 20, num=N)\n",
        "age_m"
      ],
      "metadata": {
        "id": "Z6WLzaKssM0C",
        "outputId": "568ea006-a8aa-4b42-9605-b15f6ddbfe55",
        "colab": {
          "base_uri": "https://localhost:8080/"
        }
      },
      "id": "Z6WLzaKssM0C",
      "execution_count": null,
      "outputs": [
        {
          "output_type": "execute_result",
          "data": {
            "text/plain": [
              "array([11., 12., 13., 14., 15., 16., 17., 18., 19., 20.])"
            ]
          },
          "metadata": {},
          "execution_count": 112
        }
      ]
    },
    {
      "cell_type": "markdown",
      "id": "f18163c1",
      "metadata": {
        "id": "f18163c1"
      },
      "source": [
        "## Height and weight\n",
        "\n",
        "Create an array of length N for the height of girls (`height_f`) filled with elements linearly growing from 145 to 165 (cm). Generate an array of a normal \"noise\" using `bumpy.random.normal` with zero mean and $\\sigma=3$. Add this noise to the previous array.\n",
        "\n",
        "Perform similar actions for the height of boys (`height_m`) but for heigth range [145, 175].\n",
        "\n",
        "**Note:** Please, fix `random.seed` in the first cell of this section for the reproducibility.\n",
        "\n",
        "Using similar procedures create an arrays for weights of girls (`weight_f`: from 35 to 60 kg) and boys (`weight_f`: from 35 to 70 kg). Set the value of $\\sigma=5$."
      ]
    },
    {
      "cell_type": "code",
      "execution_count": null,
      "id": "b8bb4bec",
      "metadata": {
        "ExecuteTime": {
          "end_time": "2021-07-03T09:06:43.081690Z",
          "start_time": "2021-07-03T09:06:43.068029Z"
        },
        "id": "b8bb4bec"
      },
      "outputs": [],
      "source": [
        "np.random.seed()\n"
      ]
    },
    {
      "cell_type": "code",
      "execution_count": null,
      "id": "3b68c1bb",
      "metadata": {
        "ExecuteTime": {
          "end_time": "2021-07-03T09:06:43.097688Z",
          "start_time": "2021-07-03T09:06:43.083694Z"
        },
        "id": "3b68c1bb",
        "colab": {
          "base_uri": "https://localhost:8080/"
        },
        "outputId": "83c5be0a-2931-4957-a112-ea390b0122ea"
      },
      "outputs": [
        {
          "output_type": "execute_result",
          "data": {
            "text/plain": [
              "array([145.        , 147.22222222, 149.44444444, 151.66666667,\n",
              "       153.88888889, 156.11111111, 158.33333333, 160.55555556,\n",
              "       162.77777778, 165.        ])"
            ]
          },
          "metadata": {},
          "execution_count": 114
        }
      ],
      "source": [
        "height_f = np.linspace(145, 165, num=N)\n",
        "height_f\n",
        "\n"
      ]
    },
    {
      "cell_type": "code",
      "source": [
        "np.random.seed(0)\n",
        "noise_f_h = np.random.normal(0,3,N)\n",
        "signal_f_h = height_f + noise_f_h\n",
        "signal_f_h"
      ],
      "metadata": {
        "id": "JKYppHFcI2ew",
        "colab": {
          "base_uri": "https://localhost:8080/"
        },
        "outputId": "a3f159e9-2847-4012-bbac-7161f4dda228"
      },
      "id": "JKYppHFcI2ew",
      "execution_count": null,
      "outputs": [
        {
          "output_type": "execute_result",
          "data": {
            "text/plain": [
              "array([150.29215704, 148.42269385, 152.3806584 , 158.38934626,\n",
              "       159.49156286, 153.17927747, 161.18359859, 160.10148393,\n",
              "       162.46812122, 166.23179551])"
            ]
          },
          "metadata": {},
          "execution_count": 115
        }
      ]
    },
    {
      "cell_type": "code",
      "source": [
        "height_m = np.linspace(145, 175, num=N)\n",
        "np.random.seed(1)\n",
        "noise_m_h = np.random.normal(0,3,N)\n",
        "signal_m_h = height_m + noise_m_h\n",
        "signal_m_h\n"
      ],
      "metadata": {
        "id": "HgHt7YayL87e",
        "colab": {
          "base_uri": "https://localhost:8080/"
        },
        "outputId": "78bd9f03-7165-408d-f31c-c9c3e3532c46"
      },
      "id": "HgHt7YayL87e",
      "execution_count": null,
      "outputs": [
        {
          "output_type": "execute_result",
          "data": {
            "text/plain": [
              "array([149.87303609, 146.49806409, 150.08215141, 151.78109413,\n",
              "       160.92955622, 154.76205058, 170.23443529, 166.04971263,\n",
              "       172.62378395, 174.25188887])"
            ]
          },
          "metadata": {},
          "execution_count": 116
        }
      ]
    },
    {
      "cell_type": "code",
      "execution_count": null,
      "id": "42385d85",
      "metadata": {
        "ExecuteTime": {
          "end_time": "2021-07-03T09:06:43.113320Z",
          "start_time": "2021-07-03T09:06:43.098686Z"
        },
        "id": "42385d85",
        "colab": {
          "base_uri": "https://localhost:8080/"
        },
        "outputId": "aa6e737c-4c6d-4510-e0e8-1de4ff94b7fd"
      },
      "outputs": [
        {
          "output_type": "execute_result",
          "data": {
            "text/plain": [
              "array([39.41946556, 38.75710289, 42.34323813, 31.61702381, 40.68694817,\n",
              "       51.68737034, 56.36401342, 49.55203923, 59.73770642, 62.03207234])"
            ]
          },
          "metadata": {},
          "execution_count": 117
        }
      ],
      "source": [
        "weight_f = np.linspace(35, 60, num=N)\n",
        "np.random.seed(20)\n",
        "noise_f_w = np.random.normal(0,5,N)\n",
        "signal_f_w = weight_f + noise_f_w\n",
        "signal_f_w\n",
        "\n"
      ]
    },
    {
      "cell_type": "code",
      "source": [
        "weight_m = np.linspace(35, 70, num=N)\n",
        "np.random.seed(1)\n",
        "noise_m_w = np.random.normal(0,5,N)\n",
        "signal_m_w = weight_m + noise_m_w\n",
        "signal_m_w\n"
      ],
      "metadata": {
        "colab": {
          "base_uri": "https://localhost:8080/"
        },
        "id": "EtbgLjVVLCeQ",
        "outputId": "d4afb01b-77e6-475c-e0e3-f3187702531a"
      },
      "id": "EtbgLjVVLCeQ",
      "execution_count": null,
      "outputs": [
        {
          "output_type": "execute_result",
          "data": {
            "text/plain": [
              "array([43.12172682, 35.83010682, 40.13691902, 41.30182356, 54.8825937 ,\n",
              "       42.93675096, 67.05739215, 58.41618772, 67.70630659, 68.75314812])"
            ]
          },
          "metadata": {},
          "execution_count": 118
        }
      ]
    },
    {
      "cell_type": "markdown",
      "id": "660fabb7",
      "metadata": {
        "id": "660fabb7"
      },
      "source": [
        "### Plot of weight and height for girls and boys as functions of age\n",
        "\n",
        "Please plot the entitled dependencies in two frames one over other. One of them should plot height for boys and girls in one frame, while the other - weight.\n",
        "\n",
        "Do not forget provide your figures with titles, legend and labels for axes."
      ]
    },
    {
      "cell_type": "code",
      "execution_count": null,
      "id": "6ebf730b",
      "metadata": {
        "ExecuteTime": {
          "end_time": "2021-07-03T09:06:43.558109Z",
          "start_time": "2021-07-03T09:06:43.115324Z"
        },
        "id": "6ebf730b"
      },
      "outputs": [],
      "source": [
        "import matplotlib.pyplot as plt"
      ]
    },
    {
      "cell_type": "code",
      "source": [
        "fig, ax = plt.subplots()\n",
        "ax.plot(age_f, signal_f_h, label='Female height', color='blue')\n",
        "ax.plot(age_m, signal_m_h, label='Male height', color = 'red')\n",
        "legend = ax.legend(loc='lower right', fontsize='x-large')\n",
        "plt.xlabel('Age of students')\n",
        "plt.ylabel('Centimeters')\n",
        "plt.title('Height for girls and boys as functions of age')\n",
        "plt.show()"
      ],
      "metadata": {
        "colab": {
          "base_uri": "https://localhost:8080/",
          "height": 295
        },
        "id": "ZxxioGedJ9EU",
        "outputId": "e4f8a54d-4453-4040-9dc0-1a9b587bdb9c"
      },
      "id": "ZxxioGedJ9EU",
      "execution_count": null,
      "outputs": [
        {
          "output_type": "display_data",
          "data": {
            "text/plain": [
              "<Figure size 432x288 with 1 Axes>"
            ],
            "image/png": "[encoded data removed]"
          },
          "metadata": {
            "needs_background": "light"
          }
        }
      ]
    },
    {
      "cell_type": "code",
      "source": [
        "fig, ax = plt.subplots()\n",
        "ax.plot(age_f, signal_f_w, label='Female weight', color='green')\n",
        "ax.plot(age_m, signal_m_w, label='Male weight', color = 'orange')\n",
        "legend = ax.legend(loc='lower right', fontsize='large')\n",
        "plt.xlabel('Age of students')\n",
        "plt.ylabel('Kilogramm')\n",
        "plt.title('Weight for girls and boys as functions of age')\n",
        "plt.show()"
      ],
      "metadata": {
        "colab": {
          "base_uri": "https://localhost:8080/",
          "height": 295
        },
        "id": "1pXK_3dRJ86T",
        "outputId": "c7275ebd-f201-4414-819d-0fc3a1df1b5a"
      },
      "id": "1pXK_3dRJ86T",
      "execution_count": null,
      "outputs": [
        {
          "output_type": "display_data",
          "data": {
            "text/plain": [
              "<Figure size 432x288 with 1 Axes>"
            ],
            "image/png": "[encoded data removed]"
          },
          "metadata": {
            "needs_background": "light"
          }
        }
      ]
    },
    {
      "cell_type": "markdown",
      "id": "4bc27f6f",
      "metadata": {
        "id": "4bc27f6f"
      },
      "source": [
        "## Tables for girls and boys\n",
        "\n",
        "Combine your data in two dataframes with columns \"age\", \"sex\", \"height\", and \"weight\" for boys and girls separately."
      ]
    },
    {
      "cell_type": "code",
      "execution_count": null,
      "id": "26306fbd",
      "metadata": {
        "ExecuteTime": {
          "end_time": "2021-07-03T09:06:43.590109Z",
          "start_time": "2021-07-03T09:06:43.559110Z"
        },
        "id": "26306fbd",
        "colab": {
          "base_uri": "https://localhost:8080/"
        },
        "cellView": "form",
        "outputId": "0e1a9064-ab39-4aae-f4a5-60c881a26cbb"
      },
      "outputs": [
        {
          "output_type": "execute_result",
          "data": {
            "text/plain": [
              "array([['11.0', '12.0', '13.0', '14.0', '15.0', '16.0', '17.0', '18.0',\n",
              "        '19.0', '20.0'],\n",
              "       ['F', 'F', 'F', 'F', 'F', 'F', 'F', 'F', 'F', 'F'],\n",
              "       ['150.3', '148.4', '152.4', '158.4', '159.5', '153.2', '161.2',\n",
              "        '160.1', '162.5', '166.2'],\n",
              "       ['39.4', '38.8', '42.3', '31.6', '40.7', '51.7', '56.4', '49.6',\n",
              "        '59.7', '62.0']], dtype='<U32')"
            ]
          },
          "metadata": {},
          "execution_count": 122
        }
      ],
      "source": [
        "#@title\n",
        "import pandas as pd\n",
        "\n",
        "a_f = np.array([age_f])  #.astype(int)\n",
        "b_f = np.array([sex_f])\n",
        "c_f = np.round(signal_f_h, decimals=1)\n",
        "d_f = np.round(signal_f_w, decimals=1)\n",
        "\n",
        "array_girls = np.vstack((a_f, b_f, c_f, d_f))\n",
        "array_girls"
      ]
    },
    {
      "cell_type": "code",
      "source": [
        "multi_col_1 = pd.MultiIndex.from_tuples(\n",
        "    [('Girls', 'Age'), ('Girls', 'Sex'), ('Girls', 'Height'), \n",
        "     ('Girls', 'Weight')]\n",
        ")\n",
        "\n",
        "girls = pd.DataFrame(\n",
        "    {'Age': array_girls[0], 'Sex': array_girls[1],\n",
        "     'Height': array_girls[2], 'Weight': array_girls[3], },\n",
        "    #index=['1','2', '3', '4', '5', '6', '7', '8', '9', '10'],\n",
        "    #columns=multi_col_1\n",
        ")\n",
        "girls"
      ],
      "metadata": {
        "colab": {
          "base_uri": "https://localhost:8080/",
          "height": 363
        },
        "id": "hcfFaA5aU-cP",
        "outputId": "d219319b-21b8-4cf6-a02c-8f9abe40b90a"
      },
      "id": "hcfFaA5aU-cP",
      "execution_count": null,
      "outputs": [
        {
          "output_type": "execute_result",
          "data": {
            "text/plain": [
              "    Age Sex Height Weight\n",
              "0  11.0   F  150.3   39.4\n",
              "1  12.0   F  148.4   38.8\n",
              "2  13.0   F  152.4   42.3\n",
              "3  14.0   F  158.4   31.6\n",
              "4  15.0   F  159.5   40.7\n",
              "5  16.0   F  153.2   51.7\n",
              "6  17.0   F  161.2   56.4\n",
              "7  18.0   F  160.1   49.6\n",
              "8  19.0   F  162.5   59.7\n",
              "9  20.0   F  166.2   62.0"
            ],
            "text/html": [
              "\n",
              "  <div id=\"df-c0d34a6a-3217-4c42-b4ab-286b341e5df8\">\n",
              "    <div class=\"colab-df-container\">\n",
              "      <div>\n",
              "<style scoped>\n",
              "    .dataframe tbody tr th:only-of-type {\n",
              "        vertical-align: middle;\n",
              "    }\n",
              "\n",
              "    .dataframe tbody tr th {\n",
              "        vertical-align: top;\n",
              "    }\n",
              "\n",
              "    .dataframe thead th {\n",
              "        text-align: right;\n",
              "    }\n",
              "</style>\n",
              "<table border=\"1\" class=\"dataframe\">\n",
              "  <thead>\n",
              "    <tr style=\"text-align: right;\">\n",
              "      <th></th>\n",
              "      <th>Age</th>\n",
              "      <th>Sex</th>\n",
              "      <th>Height</th>\n",
              "      <th>Weight</th>\n",
              "    </tr>\n",
              "  </thead>\n",
              "  <tbody>\n",
              "    <tr>\n",
              "      <th>0</th>\n",
              "      <td>11.0</td>\n",
              "      <td>F</td>\n",
              "      <td>150.3</td>\n",
              "      <td>39.4</td>\n",
              "    </tr>\n",
              "    <tr>\n",
              "      <th>1</th>\n",
              "      <td>12.0</td>\n",
              "      <td>F</td>\n",
              "      <td>148.4</td>\n",
              "      <td>38.8</td>\n",
              "    </tr>\n",
              "    <tr>\n",
              "      <th>2</th>\n",
              "      <td>13.0</td>\n",
              "      <td>F</td>\n",
              "      <td>152.4</td>\n",
              "      <td>42.3</td>\n",
              "    </tr>\n",
              "    <tr>\n",
              "      <th>3</th>\n",
              "      <td>14.0</td>\n",
              "      <td>F</td>\n",
              "      <td>158.4</td>\n",
              "      <td>31.6</td>\n",
              "    </tr>\n",
              "    <tr>\n",
              "      <th>4</th>\n",
              "      <td>15.0</td>\n",
              "      <td>F</td>\n",
              "      <td>159.5</td>\n",
              "      <td>40.7</td>\n",
              "    </tr>\n",
              "    <tr>\n",
              "      <th>5</th>\n",
              "      <td>16.0</td>\n",
              "      <td>F</td>\n",
              "      <td>153.2</td>\n",
              "      <td>51.7</td>\n",
              "    </tr>\n",
              "    <tr>\n",
              "      <th>6</th>\n",
              "      <td>17.0</td>\n",
              "      <td>F</td>\n",
              "      <td>161.2</td>\n",
              "      <td>56.4</td>\n",
              "    </tr>\n",
              "    <tr>\n",
              "      <th>7</th>\n",
              "      <td>18.0</td>\n",
              "      <td>F</td>\n",
              "      <td>160.1</td>\n",
              "      <td>49.6</td>\n",
              "    </tr>\n",
              "    <tr>\n",
              "      <th>8</th>\n",
              "      <td>19.0</td>\n",
              "      <td>F</td>\n",
              "      <td>162.5</td>\n",
              "      <td>59.7</td>\n",
              "    </tr>\n",
              "    <tr>\n",
              "      <th>9</th>\n",
              "      <td>20.0</td>\n",
              "      <td>F</td>\n",
              "      <td>166.2</td>\n",
              "      <td>62.0</td>\n",
              "    </tr>\n",
              "  </tbody>\n",
              "</table>\n",
              "</div>\n",
              "      <button class=\"colab-df-convert\" onclick=\"convertToInteractive('df-c0d34a6a-3217-4c42-b4ab-286b341e5df8')\"\n",
              "              title=\"Convert this dataframe to an interactive table.\"\n",
              "              style=\"display:none;\">\n",
              "        \n",
              "  <svg xmlns=\"http://www.w3.org/2000/svg\" height=\"24px\"viewBox=\"0 0 24 24\"\n",
              "       width=\"24px\">\n",
              "    <path d=\"M0 0h24v24H0V0z\" fill=\"none\"/>\n",
              "    <path d=\"M18.56 5.44l.94 2.06.94-2.06 2.06-.94-2.06-.94-.94-2.06-.94 2.06-2.06.94zm-11 1L8.5 8.5l.94-2.06 2.06-.94-2.06-.94L8.5 2.5l-.94 2.06-2.06.94zm10 10l.94 2.06.94-2.06 2.06-.94-2.06-.94-.94-2.06-.94 2.06-2.06.94z\"/><path d=\"M17.41 7.96l-1.37-1.37c-.4-.4-.92-.59-1.43-.59-.52 0-1.04.2-1.43.59L10.3 9.45l-7.72 7.72c-.78.78-.78 2.05 0 2.83L4 21.41c.39.39.9.59 1.41.59.51 0 1.02-.2 1.41-.59l7.78-7.78 2.81-2.81c.8-.78.8-2.07 0-2.86zM5.41 20L4 18.59l7.72-7.72 1.47 1.35L5.41 20z\"/>\n",
              "  </svg>\n",
              "      </button>\n",
              "      \n",
              "  <style>\n",
              "    .colab-df-container {\n",
              "      display:flex;\n",
              "      flex-wrap:wrap;\n",
              "      gap: 12px;\n",
              "    }\n",
              "\n",
              "    .colab-df-convert {\n",
              "      background-color: #E8F0FE;\n",
              "      border: none;\n",
              "      border-radius: 50%;\n",
              "      cursor: pointer;\n",
              "      display: none;\n",
              "      fill: #1967D2;\n",
              "      height: 32px;\n",
              "      padding: 0 0 0 0;\n",
              "      width: 32px;\n",
              "    }\n",
              "\n",
              "    .colab-df-convert:hover {\n",
              "      background-color: #E2EBFA;\n",
              "      box-shadow: 0px 1px 2px rgba(60, 64, 67, 0.3), 0px 1px 3px 1px rgba(60, 64, 67, 0.15);\n",
              "      fill: #174EA6;\n",
              "    }\n",
              "\n",
              "    [theme=dark] .colab-df-convert {\n",
              "      background-color: #3B4455;\n",
              "      fill: #D2E3FC;\n",
              "    }\n",
              "\n",
              "    [theme=dark] .colab-df-convert:hover {\n",
              "      background-color: #434B5C;\n",
              "      box-shadow: 0px 1px 3px 1px rgba(0, 0, 0, 0.15);\n",
              "      filter: drop-shadow(0px 1px 2px rgba(0, 0, 0, 0.3));\n",
              "      fill: #FFFFFF;\n",
              "    }\n",
              "  </style>\n",
              "\n",
              "      <script>\n",
              "        const buttonEl =\n",
              "          document.querySelector('#df-c0d34a6a-3217-4c42-b4ab-286b341e5df8 button.colab-df-convert');\n",
              "        buttonEl.style.display =\n",
              "          google.colab.kernel.accessAllowed ? 'block' : 'none';\n",
              "\n",
              "        async function convertToInteractive(key) {\n",
              "          const element = document.querySelector('#df-c0d34a6a-3217-4c42-b4ab-286b341e5df8');\n",
              "          const dataTable =\n",
              "            await google.colab.kernel.invokeFunction('convertToInteractive',\n",
              "                                                     [key], {});\n",
              "          if (!dataTable) return;\n",
              "\n",
              "          const docLinkHtml = 'Like what you see? Visit the ' +\n",
              "            '<a target=\"_blank\" href=https://colab.research.google.com/notebooks/data_table.ipynb>data table notebook</a>'\n",
              "            + ' to learn more about interactive tables.';\n",
              "          element.innerHTML = '';\n",
              "          dataTable['output_type'] = 'display_data';\n",
              "          await google.colab.output.renderOutput(dataTable, element);\n",
              "          const docLink = document.createElement('div');\n",
              "          docLink.innerHTML = docLinkHtml;\n",
              "          element.appendChild(docLink);\n",
              "        }\n",
              "      </script>\n",
              "    </div>\n",
              "  </div>\n",
              "  "
            ]
          },
          "metadata": {},
          "execution_count": 123
        }
      ]
    },
    {
      "cell_type": "code",
      "source": [
        "#boys\n",
        "a = np.array([age_m]) #.astype(int)\n",
        "b = np.array([sex_m])\n",
        "d = np.round(signal_m_w, decimals=1)\n",
        "c = np.round(signal_m_h, decimals=1)\n",
        "\n",
        "array_boys = np.vstack((a,b,c,d))\n",
        "array_boys"
      ],
      "metadata": {
        "id": "9-eIs1Mh7yip",
        "colab": {
          "base_uri": "https://localhost:8080/"
        },
        "outputId": "5fa66a3b-dff8-4b09-fb84-91219e56849d"
      },
      "id": "9-eIs1Mh7yip",
      "execution_count": null,
      "outputs": [
        {
          "output_type": "execute_result",
          "data": {
            "text/plain": [
              "array([['11.0', '12.0', '13.0', '14.0', '15.0', '16.0', '17.0', '18.0',\n",
              "        '19.0', '20.0'],\n",
              "       ['M', 'M', 'M', 'M', 'M', 'M', 'M', 'M', 'M', 'M'],\n",
              "       ['149.9', '146.5', '150.1', '151.8', '160.9', '154.8', '170.2',\n",
              "        '166.0', '172.6', '174.3'],\n",
              "       ['43.1', '35.8', '40.1', '41.3', '54.9', '42.9', '67.1', '58.4',\n",
              "        '67.7', '68.8']], dtype='<U32')"
            ]
          },
          "metadata": {},
          "execution_count": 124
        }
      ]
    },
    {
      "cell_type": "code",
      "source": [
        "multi_col_2 = pd.MultiIndex.from_tuples(\n",
        "    [('Boys', 'Age'), ('Boys', 'Sex'), ('Boys', 'Height'), ('Boys', 'Weight')]\n",
        ")\n",
        "\n",
        "boys = pd.DataFrame(\n",
        "    {'Age': array_boys[0], 'Sex': array_boys[1],\n",
        "     'Height': array_boys[2], 'Weight': array_boys[3], },\n",
        "    #  index=['1','2', '3', '4', '5', '6', '7', '8', '9', '10'],\n",
        "    #  columns=multi_col_2\n",
        ")\n",
        "boys"
      ],
      "metadata": {
        "colab": {
          "base_uri": "https://localhost:8080/",
          "height": 363
        },
        "id": "sTVQOGo29imI",
        "outputId": "d6d99d48-a5c2-4b53-a21f-3bed4635b258"
      },
      "id": "sTVQOGo29imI",
      "execution_count": null,
      "outputs": [
        {
          "output_type": "execute_result",
          "data": {
            "text/plain": [
              "    Age Sex Height Weight\n",
              "0  11.0   M  149.9   43.1\n",
              "1  12.0   M  146.5   35.8\n",
              "2  13.0   M  150.1   40.1\n",
              "3  14.0   M  151.8   41.3\n",
              "4  15.0   M  160.9   54.9\n",
              "5  16.0   M  154.8   42.9\n",
              "6  17.0   M  170.2   67.1\n",
              "7  18.0   M  166.0   58.4\n",
              "8  19.0   M  172.6   67.7\n",
              "9  20.0   M  174.3   68.8"
            ],
            "text/html": [
              "\n",
              "  <div id=\"df-ca4c4aea-6b90-4d05-b461-2b6e11a8d936\">\n",
              "    <div class=\"colab-df-container\">\n",
              "      <div>\n",
              "<style scoped>\n",
              "    .dataframe tbody tr th:only-of-type {\n",
              "        vertical-align: middle;\n",
              "    }\n",
              "\n",
              "    .dataframe tbody tr th {\n",
              "        vertical-align: top;\n",
              "    }\n",
              "\n",
              "    .dataframe thead th {\n",
              "        text-align: right;\n",
              "    }\n",
              "</style>\n",
              "<table border=\"1\" class=\"dataframe\">\n",
              "  <thead>\n",
              "    <tr style=\"text-align: right;\">\n",
              "      <th></th>\n",
              "      <th>Age</th>\n",
              "      <th>Sex</th>\n",
              "      <th>Height</th>\n",
              "      <th>Weight</th>\n",
              "    </tr>\n",
              "  </thead>\n",
              "  <tbody>\n",
              "    <tr>\n",
              "      <th>0</th>\n",
              "      <td>11.0</td>\n",
              "      <td>M</td>\n",
              "      <td>149.9</td>\n",
              "      <td>43.1</td>\n",
              "    </tr>\n",
              "    <tr>\n",
              "      <th>1</th>\n",
              "      <td>12.0</td>\n",
              "      <td>M</td>\n",
              "      <td>146.5</td>\n",
              "      <td>35.8</td>\n",
              "    </tr>\n",
              "    <tr>\n",
              "      <th>2</th>\n",
              "      <td>13.0</td>\n",
              "      <td>M</td>\n",
              "      <td>150.1</td>\n",
              "      <td>40.1</td>\n",
              "    </tr>\n",
              "    <tr>\n",
              "      <th>3</th>\n",
              "      <td>14.0</td>\n",
              "      <td>M</td>\n",
              "      <td>151.8</td>\n",
              "      <td>41.3</td>\n",
              "    </tr>\n",
              "    <tr>\n",
              "      <th>4</th>\n",
              "      <td>15.0</td>\n",
              "      <td>M</td>\n",
              "      <td>160.9</td>\n",
              "      <td>54.9</td>\n",
              "    </tr>\n",
              "    <tr>\n",
              "      <th>5</th>\n",
              "      <td>16.0</td>\n",
              "      <td>M</td>\n",
              "      <td>154.8</td>\n",
              "      <td>42.9</td>\n",
              "    </tr>\n",
              "    <tr>\n",
              "      <th>6</th>\n",
              "      <td>17.0</td>\n",
              "      <td>M</td>\n",
              "      <td>170.2</td>\n",
              "      <td>67.1</td>\n",
              "    </tr>\n",
              "    <tr>\n",
              "      <th>7</th>\n",
              "      <td>18.0</td>\n",
              "      <td>M</td>\n",
              "      <td>166.0</td>\n",
              "      <td>58.4</td>\n",
              "    </tr>\n",
              "    <tr>\n",
              "      <th>8</th>\n",
              "      <td>19.0</td>\n",
              "      <td>M</td>\n",
              "      <td>172.6</td>\n",
              "      <td>67.7</td>\n",
              "    </tr>\n",
              "    <tr>\n",
              "      <th>9</th>\n",
              "      <td>20.0</td>\n",
              "      <td>M</td>\n",
              "      <td>174.3</td>\n",
              "      <td>68.8</td>\n",
              "    </tr>\n",
              "  </tbody>\n",
              "</table>\n",
              "</div>\n",
              "      <button class=\"colab-df-convert\" onclick=\"convertToInteractive('df-ca4c4aea-6b90-4d05-b461-2b6e11a8d936')\"\n",
              "              title=\"Convert this dataframe to an interactive table.\"\n",
              "              style=\"display:none;\">\n",
              "        \n",
              "  <svg xmlns=\"http://www.w3.org/2000/svg\" height=\"24px\"viewBox=\"0 0 24 24\"\n",
              "       width=\"24px\">\n",
              "    <path d=\"M0 0h24v24H0V0z\" fill=\"none\"/>\n",
              "    <path d=\"M18.56 5.44l.94 2.06.94-2.06 2.06-.94-2.06-.94-.94-2.06-.94 2.06-2.06.94zm-11 1L8.5 8.5l.94-2.06 2.06-.94-2.06-.94L8.5 2.5l-.94 2.06-2.06.94zm10 10l.94 2.06.94-2.06 2.06-.94-2.06-.94-.94-2.06-.94 2.06-2.06.94z\"/><path d=\"M17.41 7.96l-1.37-1.37c-.4-.4-.92-.59-1.43-.59-.52 0-1.04.2-1.43.59L10.3 9.45l-7.72 7.72c-.78.78-.78 2.05 0 2.83L4 21.41c.39.39.9.59 1.41.59.51 0 1.02-.2 1.41-.59l7.78-7.78 2.81-2.81c.8-.78.8-2.07 0-2.86zM5.41 20L4 18.59l7.72-7.72 1.47 1.35L5.41 20z\"/>\n",
              "  </svg>\n",
              "      </button>\n",
              "      \n",
              "  <style>\n",
              "    .colab-df-container {\n",
              "      display:flex;\n",
              "      flex-wrap:wrap;\n",
              "      gap: 12px;\n",
              "    }\n",
              "\n",
              "    .colab-df-convert {\n",
              "      background-color: #E8F0FE;\n",
              "      border: none;\n",
              "      border-radius: 50%;\n",
              "      cursor: pointer;\n",
              "      display: none;\n",
              "      fill: #1967D2;\n",
              "      height: 32px;\n",
              "      padding: 0 0 0 0;\n",
              "      width: 32px;\n",
              "    }\n",
              "\n",
              "    .colab-df-convert:hover {\n",
              "      background-color: #E2EBFA;\n",
              "      box-shadow: 0px 1px 2px rgba(60, 64, 67, 0.3), 0px 1px 3px 1px rgba(60, 64, 67, 0.15);\n",
              "      fill: #174EA6;\n",
              "    }\n",
              "\n",
              "    [theme=dark] .colab-df-convert {\n",
              "      background-color: #3B4455;\n",
              "      fill: #D2E3FC;\n",
              "    }\n",
              "\n",
              "    [theme=dark] .colab-df-convert:hover {\n",
              "      background-color: #434B5C;\n",
              "      box-shadow: 0px 1px 3px 1px rgba(0, 0, 0, 0.15);\n",
              "      filter: drop-shadow(0px 1px 2px rgba(0, 0, 0, 0.3));\n",
              "      fill: #FFFFFF;\n",
              "    }\n",
              "  </style>\n",
              "\n",
              "      <script>\n",
              "        const buttonEl =\n",
              "          document.querySelector('#df-ca4c4aea-6b90-4d05-b461-2b6e11a8d936 button.colab-df-convert');\n",
              "        buttonEl.style.display =\n",
              "          google.colab.kernel.accessAllowed ? 'block' : 'none';\n",
              "\n",
              "        async function convertToInteractive(key) {\n",
              "          const element = document.querySelector('#df-ca4c4aea-6b90-4d05-b461-2b6e11a8d936');\n",
              "          const dataTable =\n",
              "            await google.colab.kernel.invokeFunction('convertToInteractive',\n",
              "                                                     [key], {});\n",
              "          if (!dataTable) return;\n",
              "\n",
              "          const docLinkHtml = 'Like what you see? Visit the ' +\n",
              "            '<a target=\"_blank\" href=https://colab.research.google.com/notebooks/data_table.ipynb>data table notebook</a>'\n",
              "            + ' to learn more about interactive tables.';\n",
              "          element.innerHTML = '';\n",
              "          dataTable['output_type'] = 'display_data';\n",
              "          await google.colab.output.renderOutput(dataTable, element);\n",
              "          const docLink = document.createElement('div');\n",
              "          docLink.innerHTML = docLinkHtml;\n",
              "          element.appendChild(docLink);\n",
              "        }\n",
              "      </script>\n",
              "    </div>\n",
              "  </div>\n",
              "  "
            ]
          },
          "metadata": {},
          "execution_count": 125
        }
      ]
    },
    {
      "cell_type": "markdown",
      "id": "abfc1052",
      "metadata": {
        "id": "abfc1052"
      },
      "source": [
        "## General table\n",
        "\n",
        "Create a general table both for girls and boys sorting rows by\n",
        "- at first by age (in ascending order)\n",
        "- by sex (in descending order: boys first)"
      ]
    },
    {
      "cell_type": "code",
      "execution_count": null,
      "id": "a1a64731",
      "metadata": {
        "ExecuteTime": {
          "end_time": "2021-07-03T09:06:43.654114Z",
          "start_time": "2021-07-03T09:06:43.624112Z"
        },
        "id": "a1a64731",
        "colab": {
          "base_uri": "https://localhost:8080/",
          "height": 676
        },
        "outputId": "2b09d2c7-329e-4ce3-871f-7f925a24668b"
      },
      "outputs": [
        {
          "output_type": "execute_result",
          "data": {
            "text/plain": [
              "     Age Sex Height Weight\n",
              "0   11.0   M  149.9   43.1\n",
              "1   12.0   M  146.5   35.8\n",
              "2   13.0   M  150.1   40.1\n",
              "3   14.0   M  151.8   41.3\n",
              "4   15.0   M  160.9   54.9\n",
              "5   16.0   M  154.8   42.9\n",
              "6   17.0   M  170.2   67.1\n",
              "7   18.0   M  166.0   58.4\n",
              "8   19.0   M  172.6   67.7\n",
              "9   20.0   M  174.3   68.8\n",
              "10  11.0   F  150.3   39.4\n",
              "11  12.0   F  148.4   38.8\n",
              "12  13.0   F  152.4   42.3\n",
              "13  14.0   F  158.4   31.6\n",
              "14  15.0   F  159.5   40.7\n",
              "15  16.0   F  153.2   51.7\n",
              "16  17.0   F  161.2   56.4\n",
              "17  18.0   F  160.1   49.6\n",
              "18  19.0   F  162.5   59.7\n",
              "19  20.0   F  166.2   62.0"
            ],
            "text/html": [
              "\n",
              "  <div id=\"df-b2e5937f-5fd6-457f-8123-29890450206e\">\n",
              "    <div class=\"colab-df-container\">\n",
              "      <div>\n",
              "<style scoped>\n",
              "    .dataframe tbody tr th:only-of-type {\n",
              "        vertical-align: middle;\n",
              "    }\n",
              "\n",
              "    .dataframe tbody tr th {\n",
              "        vertical-align: top;\n",
              "    }\n",
              "\n",
              "    .dataframe thead th {\n",
              "        text-align: right;\n",
              "    }\n",
              "</style>\n",
              "<table border=\"1\" class=\"dataframe\">\n",
              "  <thead>\n",
              "    <tr style=\"text-align: right;\">\n",
              "      <th></th>\n",
              "      <th>Age</th>\n",
              "      <th>Sex</th>\n",
              "      <th>Height</th>\n",
              "      <th>Weight</th>\n",
              "    </tr>\n",
              "  </thead>\n",
              "  <tbody>\n",
              "    <tr>\n",
              "      <th>0</th>\n",
              "      <td>11.0</td>\n",
              "      <td>M</td>\n",
              "      <td>149.9</td>\n",
              "      <td>43.1</td>\n",
              "    </tr>\n",
              "    <tr>\n",
              "      <th>1</th>\n",
              "      <td>12.0</td>\n",
              "      <td>M</td>\n",
              "      <td>146.5</td>\n",
              "      <td>35.8</td>\n",
              "    </tr>\n",
              "    <tr>\n",
              "      <th>2</th>\n",
              "      <td>13.0</td>\n",
              "      <td>M</td>\n",
              "      <td>150.1</td>\n",
              "      <td>40.1</td>\n",
              "    </tr>\n",
              "    <tr>\n",
              "      <th>3</th>\n",
              "      <td>14.0</td>\n",
              "      <td>M</td>\n",
              "      <td>151.8</td>\n",
              "      <td>41.3</td>\n",
              "    </tr>\n",
              "    <tr>\n",
              "      <th>4</th>\n",
              "      <td>15.0</td>\n",
              "      <td>M</td>\n",
              "      <td>160.9</td>\n",
              "      <td>54.9</td>\n",
              "    </tr>\n",
              "    <tr>\n",
              "      <th>5</th>\n",
              "      <td>16.0</td>\n",
              "      <td>M</td>\n",
              "      <td>154.8</td>\n",
              "      <td>42.9</td>\n",
              "    </tr>\n",
              "    <tr>\n",
              "      <th>6</th>\n",
              "      <td>17.0</td>\n",
              "      <td>M</td>\n",
              "      <td>170.2</td>\n",
              "      <td>67.1</td>\n",
              "    </tr>\n",
              "    <tr>\n",
              "      <th>7</th>\n",
              "      <td>18.0</td>\n",
              "      <td>M</td>\n",
              "      <td>166.0</td>\n",
              "      <td>58.4</td>\n",
              "    </tr>\n",
              "    <tr>\n",
              "      <th>8</th>\n",
              "      <td>19.0</td>\n",
              "      <td>M</td>\n",
              "      <td>172.6</td>\n",
              "      <td>67.7</td>\n",
              "    </tr>\n",
              "    <tr>\n",
              "      <th>9</th>\n",
              "      <td>20.0</td>\n",
              "      <td>M</td>\n",
              "      <td>174.3</td>\n",
              "      <td>68.8</td>\n",
              "    </tr>\n",
              "    <tr>\n",
              "      <th>10</th>\n",
              "      <td>11.0</td>\n",
              "      <td>F</td>\n",
              "      <td>150.3</td>\n",
              "      <td>39.4</td>\n",
              "    </tr>\n",
              "    <tr>\n",
              "      <th>11</th>\n",
              "      <td>12.0</td>\n",
              "      <td>F</td>\n",
              "      <td>148.4</td>\n",
              "      <td>38.8</td>\n",
              "    </tr>\n",
              "    <tr>\n",
              "      <th>12</th>\n",
              "      <td>13.0</td>\n",
              "      <td>F</td>\n",
              "      <td>152.4</td>\n",
              "      <td>42.3</td>\n",
              "    </tr>\n",
              "    <tr>\n",
              "      <th>13</th>\n",
              "      <td>14.0</td>\n",
              "      <td>F</td>\n",
              "      <td>158.4</td>\n",
              "      <td>31.6</td>\n",
              "    </tr>\n",
              "    <tr>\n",
              "      <th>14</th>\n",
              "      <td>15.0</td>\n",
              "      <td>F</td>\n",
              "      <td>159.5</td>\n",
              "      <td>40.7</td>\n",
              "    </tr>\n",
              "    <tr>\n",
              "      <th>15</th>\n",
              "      <td>16.0</td>\n",
              "      <td>F</td>\n",
              "      <td>153.2</td>\n",
              "      <td>51.7</td>\n",
              "    </tr>\n",
              "    <tr>\n",
              "      <th>16</th>\n",
              "      <td>17.0</td>\n",
              "      <td>F</td>\n",
              "      <td>161.2</td>\n",
              "      <td>56.4</td>\n",
              "    </tr>\n",
              "    <tr>\n",
              "      <th>17</th>\n",
              "      <td>18.0</td>\n",
              "      <td>F</td>\n",
              "      <td>160.1</td>\n",
              "      <td>49.6</td>\n",
              "    </tr>\n",
              "    <tr>\n",
              "      <th>18</th>\n",
              "      <td>19.0</td>\n",
              "      <td>F</td>\n",
              "      <td>162.5</td>\n",
              "      <td>59.7</td>\n",
              "    </tr>\n",
              "    <tr>\n",
              "      <th>19</th>\n",
              "      <td>20.0</td>\n",
              "      <td>F</td>\n",
              "      <td>166.2</td>\n",
              "      <td>62.0</td>\n",
              "    </tr>\n",
              "  </tbody>\n",
              "</table>\n",
              "</div>\n",
              "      <button class=\"colab-df-convert\" onclick=\"convertToInteractive('df-b2e5937f-5fd6-457f-8123-29890450206e')\"\n",
              "              title=\"Convert this dataframe to an interactive table.\"\n",
              "              style=\"display:none;\">\n",
              "        \n",
              "  <svg xmlns=\"http://www.w3.org/2000/svg\" height=\"24px\"viewBox=\"0 0 24 24\"\n",
              "       width=\"24px\">\n",
              "    <path d=\"M0 0h24v24H0V0z\" fill=\"none\"/>\n",
              "    <path d=\"M18.56 5.44l.94 2.06.94-2.06 2.06-.94-2.06-.94-.94-2.06-.94 2.06-2.06.94zm-11 1L8.5 8.5l.94-2.06 2.06-.94-2.06-.94L8.5 2.5l-.94 2.06-2.06.94zm10 10l.94 2.06.94-2.06 2.06-.94-2.06-.94-.94-2.06-.94 2.06-2.06.94z\"/><path d=\"M17.41 7.96l-1.37-1.37c-.4-.4-.92-.59-1.43-.59-.52 0-1.04.2-1.43.59L10.3 9.45l-7.72 7.72c-.78.78-.78 2.05 0 2.83L4 21.41c.39.39.9.59 1.41.59.51 0 1.02-.2 1.41-.59l7.78-7.78 2.81-2.81c.8-.78.8-2.07 0-2.86zM5.41 20L4 18.59l7.72-7.72 1.47 1.35L5.41 20z\"/>\n",
              "  </svg>\n",
              "      </button>\n",
              "      \n",
              "  <style>\n",
              "    .colab-df-container {\n",
              "      display:flex;\n",
              "      flex-wrap:wrap;\n",
              "      gap: 12px;\n",
              "    }\n",
              "\n",
              "    .colab-df-convert {\n",
              "      background-color: #E8F0FE;\n",
              "      border: none;\n",
              "      border-radius: 50%;\n",
              "      cursor: pointer;\n",
              "      display: none;\n",
              "      fill: #1967D2;\n",
              "      height: 32px;\n",
              "      padding: 0 0 0 0;\n",
              "      width: 32px;\n",
              "    }\n",
              "\n",
              "    .colab-df-convert:hover {\n",
              "      background-color: #E2EBFA;\n",
              "      box-shadow: 0px 1px 2px rgba(60, 64, 67, 0.3), 0px 1px 3px 1px rgba(60, 64, 67, 0.15);\n",
              "      fill: #174EA6;\n",
              "    }\n",
              "\n",
              "    [theme=dark] .colab-df-convert {\n",
              "      background-color: #3B4455;\n",
              "      fill: #D2E3FC;\n",
              "    }\n",
              "\n",
              "    [theme=dark] .colab-df-convert:hover {\n",
              "      background-color: #434B5C;\n",
              "      box-shadow: 0px 1px 3px 1px rgba(0, 0, 0, 0.15);\n",
              "      filter: drop-shadow(0px 1px 2px rgba(0, 0, 0, 0.3));\n",
              "      fill: #FFFFFF;\n",
              "    }\n",
              "  </style>\n",
              "\n",
              "      <script>\n",
              "        const buttonEl =\n",
              "          document.querySelector('#df-b2e5937f-5fd6-457f-8123-29890450206e button.colab-df-convert');\n",
              "        buttonEl.style.display =\n",
              "          google.colab.kernel.accessAllowed ? 'block' : 'none';\n",
              "\n",
              "        async function convertToInteractive(key) {\n",
              "          const element = document.querySelector('#df-b2e5937f-5fd6-457f-8123-29890450206e');\n",
              "          const dataTable =\n",
              "            await google.colab.kernel.invokeFunction('convertToInteractive',\n",
              "                                                     [key], {});\n",
              "          if (!dataTable) return;\n",
              "\n",
              "          const docLinkHtml = 'Like what you see? Visit the ' +\n",
              "            '<a target=\"_blank\" href=https://colab.research.google.com/notebooks/data_table.ipynb>data table notebook</a>'\n",
              "            + ' to learn more about interactive tables.';\n",
              "          element.innerHTML = '';\n",
              "          dataTable['output_type'] = 'display_data';\n",
              "          await google.colab.output.renderOutput(dataTable, element);\n",
              "          const docLink = document.createElement('div');\n",
              "          docLink.innerHTML = docLinkHtml;\n",
              "          element.appendChild(docLink);\n",
              "        }\n",
              "      </script>\n",
              "    </div>\n",
              "  </div>\n",
              "  "
            ]
          },
          "metadata": {},
          "execution_count": 126
        }
      ],
      "source": [
        "from pandas.core.dtypes.dtypes import Ordered\n",
        "frames = (boys, girls)\n",
        "result = pd.concat(frames, axis=0, join=\"inner\", ignore_index=True)\n",
        "result\n",
        "# result2 = result.reset_index(drop=True)\n",
        "# result2\n",
        "#ignore_index=False\n",
        "\n",
        "\n",
        "\n",
        "\n"
      ]
    },
    {
      "cell_type": "code",
      "source": [
        "general_age_asc = result.sort_values(by=['Age'])\n",
        "general_age_asc\n"
      ],
      "metadata": {
        "colab": {
          "base_uri": "https://localhost:8080/",
          "height": 676
        },
        "id": "QySyXoiVhRrc",
        "outputId": "fac8e1f8-7fa6-411e-9310-1f9a5b2d2795"
      },
      "id": "QySyXoiVhRrc",
      "execution_count": null,
      "outputs": [
        {
          "output_type": "execute_result",
          "data": {
            "text/plain": [
              "     Age Sex Height Weight\n",
              "0   11.0   M  149.9   43.1\n",
              "10  11.0   F  150.3   39.4\n",
              "1   12.0   M  146.5   35.8\n",
              "11  12.0   F  148.4   38.8\n",
              "2   13.0   M  150.1   40.1\n",
              "12  13.0   F  152.4   42.3\n",
              "3   14.0   M  151.8   41.3\n",
              "13  14.0   F  158.4   31.6\n",
              "4   15.0   M  160.9   54.9\n",
              "14  15.0   F  159.5   40.7\n",
              "5   16.0   M  154.8   42.9\n",
              "15  16.0   F  153.2   51.7\n",
              "6   17.0   M  170.2   67.1\n",
              "16  17.0   F  161.2   56.4\n",
              "17  18.0   F  160.1   49.6\n",
              "7   18.0   M  166.0   58.4\n",
              "18  19.0   F  162.5   59.7\n",
              "8   19.0   M  172.6   67.7\n",
              "9   20.0   M  174.3   68.8\n",
              "19  20.0   F  166.2   62.0"
            ],
            "text/html": [
              "\n",
              "  <div id=\"df-dc62735c-d072-4e91-9a67-1dce3a9b7174\">\n",
              "    <div class=\"colab-df-container\">\n",
              "      <div>\n",
              "<style scoped>\n",
              "    .dataframe tbody tr th:only-of-type {\n",
              "        vertical-align: middle;\n",
              "    }\n",
              "\n",
              "    .dataframe tbody tr th {\n",
              "        vertical-align: top;\n",
              "    }\n",
              "\n",
              "    .dataframe thead th {\n",
              "        text-align: right;\n",
              "    }\n",
              "</style>\n",
              "<table border=\"1\" class=\"dataframe\">\n",
              "  <thead>\n",
              "    <tr style=\"text-align: right;\">\n",
              "      <th></th>\n",
              "      <th>Age</th>\n",
              "      <th>Sex</th>\n",
              "      <th>Height</th>\n",
              "      <th>Weight</th>\n",
              "    </tr>\n",
              "  </thead>\n",
              "  <tbody>\n",
              "    <tr>\n",
              "      <th>0</th>\n",
              "      <td>11.0</td>\n",
              "      <td>M</td>\n",
              "      <td>149.9</td>\n",
              "      <td>43.1</td>\n",
              "    </tr>\n",
              "    <tr>\n",
              "      <th>10</th>\n",
              "      <td>11.0</td>\n",
              "      <td>F</td>\n",
              "      <td>150.3</td>\n",
              "      <td>39.4</td>\n",
              "    </tr>\n",
              "    <tr>\n",
              "      <th>1</th>\n",
              "      <td>12.0</td>\n",
              "      <td>M</td>\n",
              "      <td>146.5</td>\n",
              "      <td>35.8</td>\n",
              "    </tr>\n",
              "    <tr>\n",
              "      <th>11</th>\n",
              "      <td>12.0</td>\n",
              "      <td>F</td>\n",
              "      <td>148.4</td>\n",
              "      <td>38.8</td>\n",
              "    </tr>\n",
              "    <tr>\n",
              "      <th>2</th>\n",
              "      <td>13.0</td>\n",
              "      <td>M</td>\n",
              "      <td>150.1</td>\n",
              "      <td>40.1</td>\n",
              "    </tr>\n",
              "    <tr>\n",
              "      <th>12</th>\n",
              "      <td>13.0</td>\n",
              "      <td>F</td>\n",
              "      <td>152.4</td>\n",
              "      <td>42.3</td>\n",
              "    </tr>\n",
              "    <tr>\n",
              "      <th>3</th>\n",
              "      <td>14.0</td>\n",
              "      <td>M</td>\n",
              "      <td>151.8</td>\n",
              "      <td>41.3</td>\n",
              "    </tr>\n",
              "    <tr>\n",
              "      <th>13</th>\n",
              "      <td>14.0</td>\n",
              "      <td>F</td>\n",
              "      <td>158.4</td>\n",
              "      <td>31.6</td>\n",
              "    </tr>\n",
              "    <tr>\n",
              "      <th>4</th>\n",
              "      <td>15.0</td>\n",
              "      <td>M</td>\n",
              "      <td>160.9</td>\n",
              "      <td>54.9</td>\n",
              "    </tr>\n",
              "    <tr>\n",
              "      <th>14</th>\n",
              "      <td>15.0</td>\n",
              "      <td>F</td>\n",
              "      <td>159.5</td>\n",
              "      <td>40.7</td>\n",
              "    </tr>\n",
              "    <tr>\n",
              "      <th>5</th>\n",
              "      <td>16.0</td>\n",
              "      <td>M</td>\n",
              "      <td>154.8</td>\n",
              "      <td>42.9</td>\n",
              "    </tr>\n",
              "    <tr>\n",
              "      <th>15</th>\n",
              "      <td>16.0</td>\n",
              "      <td>F</td>\n",
              "      <td>153.2</td>\n",
              "      <td>51.7</td>\n",
              "    </tr>\n",
              "    <tr>\n",
              "      <th>6</th>\n",
              "      <td>17.0</td>\n",
              "      <td>M</td>\n",
              "      <td>170.2</td>\n",
              "      <td>67.1</td>\n",
              "    </tr>\n",
              "    <tr>\n",
              "      <th>16</th>\n",
              "      <td>17.0</td>\n",
              "      <td>F</td>\n",
              "      <td>161.2</td>\n",
              "      <td>56.4</td>\n",
              "    </tr>\n",
              "    <tr>\n",
              "      <th>17</th>\n",
              "      <td>18.0</td>\n",
              "      <td>F</td>\n",
              "      <td>160.1</td>\n",
              "      <td>49.6</td>\n",
              "    </tr>\n",
              "    <tr>\n",
              "      <th>7</th>\n",
              "      <td>18.0</td>\n",
              "      <td>M</td>\n",
              "      <td>166.0</td>\n",
              "      <td>58.4</td>\n",
              "    </tr>\n",
              "    <tr>\n",
              "      <th>18</th>\n",
              "      <td>19.0</td>\n",
              "      <td>F</td>\n",
              "      <td>162.5</td>\n",
              "      <td>59.7</td>\n",
              "    </tr>\n",
              "    <tr>\n",
              "      <th>8</th>\n",
              "      <td>19.0</td>\n",
              "      <td>M</td>\n",
              "      <td>172.6</td>\n",
              "      <td>67.7</td>\n",
              "    </tr>\n",
              "    <tr>\n",
              "      <th>9</th>\n",
              "      <td>20.0</td>\n",
              "      <td>M</td>\n",
              "      <td>174.3</td>\n",
              "      <td>68.8</td>\n",
              "    </tr>\n",
              "    <tr>\n",
              "      <th>19</th>\n",
              "      <td>20.0</td>\n",
              "      <td>F</td>\n",
              "      <td>166.2</td>\n",
              "      <td>62.0</td>\n",
              "    </tr>\n",
              "  </tbody>\n",
              "</table>\n",
              "</div>\n",
              "      <button class=\"colab-df-convert\" onclick=\"convertToInteractive('df-dc62735c-d072-4e91-9a67-1dce3a9b7174')\"\n",
              "              title=\"Convert this dataframe to an interactive table.\"\n",
              "              style=\"display:none;\">\n",
              "        \n",
              "  <svg xmlns=\"http://www.w3.org/2000/svg\" height=\"24px\"viewBox=\"0 0 24 24\"\n",
              "       width=\"24px\">\n",
              "    <path d=\"M0 0h24v24H0V0z\" fill=\"none\"/>\n",
              "    <path d=\"M18.56 5.44l.94 2.06.94-2.06 2.06-.94-2.06-.94-.94-2.06-.94 2.06-2.06.94zm-11 1L8.5 8.5l.94-2.06 2.06-.94-2.06-.94L8.5 2.5l-.94 2.06-2.06.94zm10 10l.94 2.06.94-2.06 2.06-.94-2.06-.94-.94-2.06-.94 2.06-2.06.94z\"/><path d=\"M17.41 7.96l-1.37-1.37c-.4-.4-.92-.59-1.43-.59-.52 0-1.04.2-1.43.59L10.3 9.45l-7.72 7.72c-.78.78-.78 2.05 0 2.83L4 21.41c.39.39.9.59 1.41.59.51 0 1.02-.2 1.41-.59l7.78-7.78 2.81-2.81c.8-.78.8-2.07 0-2.86zM5.41 20L4 18.59l7.72-7.72 1.47 1.35L5.41 20z\"/>\n",
              "  </svg>\n",
              "      </button>\n",
              "      \n",
              "  <style>\n",
              "    .colab-df-container {\n",
              "      display:flex;\n",
              "      flex-wrap:wrap;\n",
              "      gap: 12px;\n",
              "    }\n",
              "\n",
              "    .colab-df-convert {\n",
              "      background-color: #E8F0FE;\n",
              "      border: none;\n",
              "      border-radius: 50%;\n",
              "      cursor: pointer;\n",
              "      display: none;\n",
              "      fill: #1967D2;\n",
              "      height: 32px;\n",
              "      padding: 0 0 0 0;\n",
              "      width: 32px;\n",
              "    }\n",
              "\n",
              "    .colab-df-convert:hover {\n",
              "      background-color: #E2EBFA;\n",
              "      box-shadow: 0px 1px 2px rgba(60, 64, 67, 0.3), 0px 1px 3px 1px rgba(60, 64, 67, 0.15);\n",
              "      fill: #174EA6;\n",
              "    }\n",
              "\n",
              "    [theme=dark] .colab-df-convert {\n",
              "      background-color: #3B4455;\n",
              "      fill: #D2E3FC;\n",
              "    }\n",
              "\n",
              "    [theme=dark] .colab-df-convert:hover {\n",
              "      background-color: #434B5C;\n",
              "      box-shadow: 0px 1px 3px 1px rgba(0, 0, 0, 0.15);\n",
              "      filter: drop-shadow(0px 1px 2px rgba(0, 0, 0, 0.3));\n",
              "      fill: #FFFFFF;\n",
              "    }\n",
              "  </style>\n",
              "\n",
              "      <script>\n",
              "        const buttonEl =\n",
              "          document.querySelector('#df-dc62735c-d072-4e91-9a67-1dce3a9b7174 button.colab-df-convert');\n",
              "        buttonEl.style.display =\n",
              "          google.colab.kernel.accessAllowed ? 'block' : 'none';\n",
              "\n",
              "        async function convertToInteractive(key) {\n",
              "          const element = document.querySelector('#df-dc62735c-d072-4e91-9a67-1dce3a9b7174');\n",
              "          const dataTable =\n",
              "            await google.colab.kernel.invokeFunction('convertToInteractive',\n",
              "                                                     [key], {});\n",
              "          if (!dataTable) return;\n",
              "\n",
              "          const docLinkHtml = 'Like what you see? Visit the ' +\n",
              "            '<a target=\"_blank\" href=https://colab.research.google.com/notebooks/data_table.ipynb>data table notebook</a>'\n",
              "            + ' to learn more about interactive tables.';\n",
              "          element.innerHTML = '';\n",
              "          dataTable['output_type'] = 'display_data';\n",
              "          await google.colab.output.renderOutput(dataTable, element);\n",
              "          const docLink = document.createElement('div');\n",
              "          docLink.innerHTML = docLinkHtml;\n",
              "          element.appendChild(docLink);\n",
              "        }\n",
              "      </script>\n",
              "    </div>\n",
              "  </div>\n",
              "  "
            ]
          },
          "metadata": {},
          "execution_count": 127
        }
      ]
    },
    {
      "cell_type": "code",
      "source": [
        "general_sex_desc = result.sort_values(by=['Sex'], ascending=False)\n",
        "general_sex_desc"
      ],
      "metadata": {
        "colab": {
          "base_uri": "https://localhost:8080/",
          "height": 676
        },
        "id": "FXLv_QPvhusp",
        "outputId": "4b2b6899-c092-4c8a-ee39-c1b9943af78d"
      },
      "id": "FXLv_QPvhusp",
      "execution_count": null,
      "outputs": [
        {
          "output_type": "execute_result",
          "data": {
            "text/plain": [
              "     Age Sex Height Weight\n",
              "0   11.0   M  149.9   43.1\n",
              "2   13.0   M  150.1   40.1\n",
              "3   14.0   M  151.8   41.3\n",
              "4   15.0   M  160.9   54.9\n",
              "5   16.0   M  154.8   42.9\n",
              "6   17.0   M  170.2   67.1\n",
              "7   18.0   M  166.0   58.4\n",
              "8   19.0   M  172.6   67.7\n",
              "9   20.0   M  174.3   68.8\n",
              "1   12.0   M  146.5   35.8\n",
              "15  16.0   F  153.2   51.7\n",
              "18  19.0   F  162.5   59.7\n",
              "17  18.0   F  160.1   49.6\n",
              "16  17.0   F  161.2   56.4\n",
              "10  11.0   F  150.3   39.4\n",
              "14  15.0   F  159.5   40.7\n",
              "13  14.0   F  158.4   31.6\n",
              "12  13.0   F  152.4   42.3\n",
              "11  12.0   F  148.4   38.8\n",
              "19  20.0   F  166.2   62.0"
            ],
            "text/html": [
              "\n",
              "  <div id=\"df-dec7ad41-5ff3-4a98-bd93-ce5be4ef860c\">\n",
              "    <div class=\"colab-df-container\">\n",
              "      <div>\n",
              "<style scoped>\n",
              "    .dataframe tbody tr th:only-of-type {\n",
              "        vertical-align: middle;\n",
              "    }\n",
              "\n",
              "    .dataframe tbody tr th {\n",
              "        vertical-align: top;\n",
              "    }\n",
              "\n",
              "    .dataframe thead th {\n",
              "        text-align: right;\n",
              "    }\n",
              "</style>\n",
              "<table border=\"1\" class=\"dataframe\">\n",
              "  <thead>\n",
              "    <tr style=\"text-align: right;\">\n",
              "      <th></th>\n",
              "      <th>Age</th>\n",
              "      <th>Sex</th>\n",
              "      <th>Height</th>\n",
              "      <th>Weight</th>\n",
              "    </tr>\n",
              "  </thead>\n",
              "  <tbody>\n",
              "    <tr>\n",
              "      <th>0</th>\n",
              "      <td>11.0</td>\n",
              "      <td>M</td>\n",
              "      <td>149.9</td>\n",
              "      <td>43.1</td>\n",
              "    </tr>\n",
              "    <tr>\n",
              "      <th>2</th>\n",
              "      <td>13.0</td>\n",
              "      <td>M</td>\n",
              "      <td>150.1</td>\n",
              "      <td>40.1</td>\n",
              "    </tr>\n",
              "    <tr>\n",
              "      <th>3</th>\n",
              "      <td>14.0</td>\n",
              "      <td>M</td>\n",
              "      <td>151.8</td>\n",
              "      <td>41.3</td>\n",
              "    </tr>\n",
              "    <tr>\n",
              "      <th>4</th>\n",
              "      <td>15.0</td>\n",
              "      <td>M</td>\n",
              "      <td>160.9</td>\n",
              "      <td>54.9</td>\n",
              "    </tr>\n",
              "    <tr>\n",
              "      <th>5</th>\n",
              "      <td>16.0</td>\n",
              "      <td>M</td>\n",
              "      <td>154.8</td>\n",
              "      <td>42.9</td>\n",
              "    </tr>\n",
              "    <tr>\n",
              "      <th>6</th>\n",
              "      <td>17.0</td>\n",
              "      <td>M</td>\n",
              "      <td>170.2</td>\n",
              "      <td>67.1</td>\n",
              "    </tr>\n",
              "    <tr>\n",
              "      <th>7</th>\n",
              "      <td>18.0</td>\n",
              "      <td>M</td>\n",
              "      <td>166.0</td>\n",
              "      <td>58.4</td>\n",
              "    </tr>\n",
              "    <tr>\n",
              "      <th>8</th>\n",
              "      <td>19.0</td>\n",
              "      <td>M</td>\n",
              "      <td>172.6</td>\n",
              "      <td>67.7</td>\n",
              "    </tr>\n",
              "    <tr>\n",
              "      <th>9</th>\n",
              "      <td>20.0</td>\n",
              "      <td>M</td>\n",
              "      <td>174.3</td>\n",
              "      <td>68.8</td>\n",
              "    </tr>\n",
              "    <tr>\n",
              "      <th>1</th>\n",
              "      <td>12.0</td>\n",
              "      <td>M</td>\n",
              "      <td>146.5</td>\n",
              "      <td>35.8</td>\n",
              "    </tr>\n",
              "    <tr>\n",
              "      <th>15</th>\n",
              "      <td>16.0</td>\n",
              "      <td>F</td>\n",
              "      <td>153.2</td>\n",
              "      <td>51.7</td>\n",
              "    </tr>\n",
              "    <tr>\n",
              "      <th>18</th>\n",
              "      <td>19.0</td>\n",
              "      <td>F</td>\n",
              "      <td>162.5</td>\n",
              "      <td>59.7</td>\n",
              "    </tr>\n",
              "    <tr>\n",
              "      <th>17</th>\n",
              "      <td>18.0</td>\n",
              "      <td>F</td>\n",
              "      <td>160.1</td>\n",
              "      <td>49.6</td>\n",
              "    </tr>\n",
              "    <tr>\n",
              "      <th>16</th>\n",
              "      <td>17.0</td>\n",
              "      <td>F</td>\n",
              "      <td>161.2</td>\n",
              "      <td>56.4</td>\n",
              "    </tr>\n",
              "    <tr>\n",
              "      <th>10</th>\n",
              "      <td>11.0</td>\n",
              "      <td>F</td>\n",
              "      <td>150.3</td>\n",
              "      <td>39.4</td>\n",
              "    </tr>\n",
              "    <tr>\n",
              "      <th>14</th>\n",
              "      <td>15.0</td>\n",
              "      <td>F</td>\n",
              "      <td>159.5</td>\n",
              "      <td>40.7</td>\n",
              "    </tr>\n",
              "    <tr>\n",
              "      <th>13</th>\n",
              "      <td>14.0</td>\n",
              "      <td>F</td>\n",
              "      <td>158.4</td>\n",
              "      <td>31.6</td>\n",
              "    </tr>\n",
              "    <tr>\n",
              "      <th>12</th>\n",
              "      <td>13.0</td>\n",
              "      <td>F</td>\n",
              "      <td>152.4</td>\n",
              "      <td>42.3</td>\n",
              "    </tr>\n",
              "    <tr>\n",
              "      <th>11</th>\n",
              "      <td>12.0</td>\n",
              "      <td>F</td>\n",
              "      <td>148.4</td>\n",
              "      <td>38.8</td>\n",
              "    </tr>\n",
              "    <tr>\n",
              "      <th>19</th>\n",
              "      <td>20.0</td>\n",
              "      <td>F</td>\n",
              "      <td>166.2</td>\n",
              "      <td>62.0</td>\n",
              "    </tr>\n",
              "  </tbody>\n",
              "</table>\n",
              "</div>\n",
              "      <button class=\"colab-df-convert\" onclick=\"convertToInteractive('df-dec7ad41-5ff3-4a98-bd93-ce5be4ef860c')\"\n",
              "              title=\"Convert this dataframe to an interactive table.\"\n",
              "              style=\"display:none;\">\n",
              "        \n",
              "  <svg xmlns=\"http://www.w3.org/2000/svg\" height=\"24px\"viewBox=\"0 0 24 24\"\n",
              "       width=\"24px\">\n",
              "    <path d=\"M0 0h24v24H0V0z\" fill=\"none\"/>\n",
              "    <path d=\"M18.56 5.44l.94 2.06.94-2.06 2.06-.94-2.06-.94-.94-2.06-.94 2.06-2.06.94zm-11 1L8.5 8.5l.94-2.06 2.06-.94-2.06-.94L8.5 2.5l-.94 2.06-2.06.94zm10 10l.94 2.06.94-2.06 2.06-.94-2.06-.94-.94-2.06-.94 2.06-2.06.94z\"/><path d=\"M17.41 7.96l-1.37-1.37c-.4-.4-.92-.59-1.43-.59-.52 0-1.04.2-1.43.59L10.3 9.45l-7.72 7.72c-.78.78-.78 2.05 0 2.83L4 21.41c.39.39.9.59 1.41.59.51 0 1.02-.2 1.41-.59l7.78-7.78 2.81-2.81c.8-.78.8-2.07 0-2.86zM5.41 20L4 18.59l7.72-7.72 1.47 1.35L5.41 20z\"/>\n",
              "  </svg>\n",
              "      </button>\n",
              "      \n",
              "  <style>\n",
              "    .colab-df-container {\n",
              "      display:flex;\n",
              "      flex-wrap:wrap;\n",
              "      gap: 12px;\n",
              "    }\n",
              "\n",
              "    .colab-df-convert {\n",
              "      background-color: #E8F0FE;\n",
              "      border: none;\n",
              "      border-radius: 50%;\n",
              "      cursor: pointer;\n",
              "      display: none;\n",
              "      fill: #1967D2;\n",
              "      height: 32px;\n",
              "      padding: 0 0 0 0;\n",
              "      width: 32px;\n",
              "    }\n",
              "\n",
              "    .colab-df-convert:hover {\n",
              "      background-color: #E2EBFA;\n",
              "      box-shadow: 0px 1px 2px rgba(60, 64, 67, 0.3), 0px 1px 3px 1px rgba(60, 64, 67, 0.15);\n",
              "      fill: #174EA6;\n",
              "    }\n",
              "\n",
              "    [theme=dark] .colab-df-convert {\n",
              "      background-color: #3B4455;\n",
              "      fill: #D2E3FC;\n",
              "    }\n",
              "\n",
              "    [theme=dark] .colab-df-convert:hover {\n",
              "      background-color: #434B5C;\n",
              "      box-shadow: 0px 1px 3px 1px rgba(0, 0, 0, 0.15);\n",
              "      filter: drop-shadow(0px 1px 2px rgba(0, 0, 0, 0.3));\n",
              "      fill: #FFFFFF;\n",
              "    }\n",
              "  </style>\n",
              "\n",
              "      <script>\n",
              "        const buttonEl =\n",
              "          document.querySelector('#df-dec7ad41-5ff3-4a98-bd93-ce5be4ef860c button.colab-df-convert');\n",
              "        buttonEl.style.display =\n",
              "          google.colab.kernel.accessAllowed ? 'block' : 'none';\n",
              "\n",
              "        async function convertToInteractive(key) {\n",
              "          const element = document.querySelector('#df-dec7ad41-5ff3-4a98-bd93-ce5be4ef860c');\n",
              "          const dataTable =\n",
              "            await google.colab.kernel.invokeFunction('convertToInteractive',\n",
              "                                                     [key], {});\n",
              "          if (!dataTable) return;\n",
              "\n",
              "          const docLinkHtml = 'Like what you see? Visit the ' +\n",
              "            '<a target=\"_blank\" href=https://colab.research.google.com/notebooks/data_table.ipynb>data table notebook</a>'\n",
              "            + ' to learn more about interactive tables.';\n",
              "          element.innerHTML = '';\n",
              "          dataTable['output_type'] = 'display_data';\n",
              "          await google.colab.output.renderOutput(dataTable, element);\n",
              "          const docLink = document.createElement('div');\n",
              "          docLink.innerHTML = docLinkHtml;\n",
              "          element.appendChild(docLink);\n",
              "        }\n",
              "      </script>\n",
              "    </div>\n",
              "  </div>\n",
              "  "
            ]
          },
          "metadata": {},
          "execution_count": 128
        }
      ]
    },
    {
      "cell_type": "markdown",
      "id": "2a719456",
      "metadata": {
        "id": "2a719456"
      },
      "source": [
        "## (Self) check\n",
        "\n",
        "Check that your code works for two cases:\n",
        "- [ ] N=10 (corresponds to the age range from 11 up to 20 with step=1 year) and \n",
        "- [ ] N=19 (corresponds to the age range from 11 up to 20 with step=0.5 year)"
      ]
    },
    {
      "cell_type": "code",
      "execution_count": null,
      "id": "f2edfa00",
      "metadata": {
        "id": "f2edfa00"
      },
      "outputs": [],
      "source": [
        "N = 10\n",
        "#N = 19\n",
        "age_f = np.linspace(11, 20, num=N)\n",
        "age_m = np.linspace(11, 20, num=N)\n",
        "\n",
        "\n",
        "\n",
        "\n"
      ]
    }
  ],
  "metadata": {
    "kernelspec": {
      "display_name": "Python 3",
      "language": "python",
      "name": "python3"
    },
    "language_info": {
      "codemirror_mode": {
        "name": "ipython",
        "version": 3
      },
      "file_extension": ".py",
      "mimetype": "text/x-python",
      "name": "python",
      "nbconvert_exporter": "python",
      "pygments_lexer": "ipython3",
      "version": "3.8.10"
    },
    "toc": {
      "base_numbering": 1,
      "nav_menu": {},
      "number_sections": true,
      "sideBar": true,
      "skip_h1_title": true,
      "title_cell": "Table of Contents",
      "title_sidebar": "Contents",
      "toc_cell": true,
      "toc_position": {},
      "toc_section_display": true,
      "toc_window_display": true
    },
    "colab": {
      "provenance": [],
      "toc_visible": true,
      "include_colab_link": true
    }
  },
  "nbformat": 4,
  "nbformat_minor": 5
}